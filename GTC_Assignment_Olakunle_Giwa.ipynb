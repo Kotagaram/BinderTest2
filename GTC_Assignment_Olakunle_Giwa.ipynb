{
 "cells": [
  {
   "cell_type": "markdown",
   "metadata": {},
   "source": [
    "### I have chosen to implement in Python as it is has good libraries for data analysis and it is well supported in the community"
   ]
  },
  {
   "cell_type": "markdown",
   "metadata": {},
   "source": [
    "#### Importing libraries"
   ]
  },
  {
   "cell_type": "code",
   "execution_count": 1,
   "metadata": {},
   "outputs": [
    {
     "name": "stdout",
     "output_type": "stream",
     "text": [
      "Populating the interactive namespace from numpy and matplotlib\n"
     ]
    }
   ],
   "source": [
    "%pylab inline"
   ]
  },
  {
   "cell_type": "code",
   "execution_count": 2,
   "metadata": {
    "collapsed": true
   },
   "outputs": [],
   "source": [
    "import scipy\n",
    "import numpy as np\n",
    "import pandas as pd"
   ]
  },
  {
   "cell_type": "code",
   "execution_count": 3,
   "metadata": {
    "collapsed": true
   },
   "outputs": [],
   "source": [
    "from matplotlib import pyplot as plt"
   ]
  },
  {
   "cell_type": "code",
   "execution_count": 4,
   "metadata": {
    "collapsed": true
   },
   "outputs": [],
   "source": [
    "import seaborn as sns"
   ]
  },
  {
   "cell_type": "markdown",
   "metadata": {},
   "source": [
    "#### Read data"
   ]
  },
  {
   "cell_type": "code",
   "execution_count": 5,
   "metadata": {
    "collapsed": true
   },
   "outputs": [],
   "source": [
    "url = \"http://www.fifeweather.co.uk/cowdenbeath/200606.csv\""
   ]
  },
  {
   "cell_type": "code",
   "execution_count": 6,
   "metadata": {
    "collapsed": true
   },
   "outputs": [],
   "source": [
    "data = pd.read_csv(url)"
   ]
  },
  {
   "cell_type": "code",
   "execution_count": 7,
   "metadata": {
    "collapsed": true
   },
   "outputs": [],
   "source": [
    "#data.dtypes"
   ]
  },
  {
   "cell_type": "code",
   "execution_count": 8,
   "metadata": {
    "collapsed": true
   },
   "outputs": [],
   "source": [
    "#data.describe()"
   ]
  },
  {
   "cell_type": "code",
   "execution_count": 9,
   "metadata": {
    "collapsed": true
   },
   "outputs": [],
   "source": [
    "#data.head()"
   ]
  },
  {
   "cell_type": "code",
   "execution_count": 10,
   "metadata": {
    "collapsed": true
   },
   "outputs": [],
   "source": [
    "data['Date'] = pd.to_datetime(data['Date'], format=\"%d/%m/%Y\")"
   ]
  },
  {
   "cell_type": "code",
   "execution_count": 11,
   "metadata": {
    "collapsed": true
   },
   "outputs": [],
   "source": [
    "data['Time'] = pd.to_datetime(data['Time'], format='%H:%M').dt.time"
   ]
  },
  {
   "cell_type": "code",
   "execution_count": 12,
   "metadata": {
    "collapsed": true
   },
   "outputs": [],
   "source": [
    "data = data[(data['Date'].dt.month == 6)]"
   ]
  },
  {
   "cell_type": "code",
   "execution_count": 13,
   "metadata": {
    "collapsed": true
   },
   "outputs": [],
   "source": [
    "df_Q123 = data[['Date', 'Time', 'Outside Temperature', 'Hi Temperature', 'Low Temperature']]"
   ]
  },
  {
   "cell_type": "code",
   "execution_count": 14,
   "metadata": {},
   "outputs": [
    {
     "data": {
      "text/html": [
       "<div>\n",
       "<table border=\"1\" class=\"dataframe\">\n",
       "  <thead>\n",
       "    <tr style=\"text-align: right;\">\n",
       "      <th></th>\n",
       "      <th>Date</th>\n",
       "      <th>Time</th>\n",
       "      <th>Outside Temperature</th>\n",
       "      <th>Hi Temperature</th>\n",
       "      <th>Low Temperature</th>\n",
       "    </tr>\n",
       "  </thead>\n",
       "  <tbody>\n",
       "    <tr>\n",
       "      <th>90</th>\n",
       "      <td>2006-06-01</td>\n",
       "      <td>00:00:00</td>\n",
       "      <td>9.6</td>\n",
       "      <td>9.6</td>\n",
       "      <td>9.5</td>\n",
       "    </tr>\n",
       "    <tr>\n",
       "      <th>91</th>\n",
       "      <td>2006-06-01</td>\n",
       "      <td>00:10:00</td>\n",
       "      <td>9.5</td>\n",
       "      <td>9.6</td>\n",
       "      <td>9.5</td>\n",
       "    </tr>\n",
       "    <tr>\n",
       "      <th>92</th>\n",
       "      <td>2006-06-01</td>\n",
       "      <td>00:20:00</td>\n",
       "      <td>9.5</td>\n",
       "      <td>9.6</td>\n",
       "      <td>9.5</td>\n",
       "    </tr>\n",
       "    <tr>\n",
       "      <th>93</th>\n",
       "      <td>2006-06-01</td>\n",
       "      <td>00:30:00</td>\n",
       "      <td>9.5</td>\n",
       "      <td>9.6</td>\n",
       "      <td>9.5</td>\n",
       "    </tr>\n",
       "    <tr>\n",
       "      <th>94</th>\n",
       "      <td>2006-06-01</td>\n",
       "      <td>00:40:00</td>\n",
       "      <td>9.5</td>\n",
       "      <td>9.6</td>\n",
       "      <td>9.5</td>\n",
       "    </tr>\n",
       "  </tbody>\n",
       "</table>\n",
       "</div>"
      ],
      "text/plain": [
       "         Date      Time  Outside Temperature  Hi Temperature  Low Temperature\n",
       "90 2006-06-01  00:00:00                  9.6             9.6              9.5\n",
       "91 2006-06-01  00:10:00                  9.5             9.6              9.5\n",
       "92 2006-06-01  00:20:00                  9.5             9.6              9.5\n",
       "93 2006-06-01  00:30:00                  9.5             9.6              9.5\n",
       "94 2006-06-01  00:40:00                  9.5             9.6              9.5"
      ]
     },
     "execution_count": 14,
     "metadata": {},
     "output_type": "execute_result"
    }
   ],
   "source": [
    "df_Q123.head()"
   ]
  },
  {
   "cell_type": "code",
   "execution_count": 15,
   "metadata": {
    "collapsed": true
   },
   "outputs": [],
   "source": [
    "days = data['Date'].dt.day.unique()\n",
    "dfs = []\n",
    "i=0\n",
    "for df in days:\n",
    "    df = df_Q123[df_Q123['Date'].dt.day == i+1]\n",
    "    dfs.append(df)\n",
    "    i+=1"
   ]
  },
  {
   "cell_type": "code",
   "execution_count": 16,
   "metadata": {},
   "outputs": [
    {
     "data": {
      "text/html": [
       "<div>\n",
       "<table border=\"1\" class=\"dataframe\">\n",
       "  <thead>\n",
       "    <tr style=\"text-align: right;\">\n",
       "      <th></th>\n",
       "      <th>Date</th>\n",
       "      <th>Time</th>\n",
       "      <th>Outside Temperature</th>\n",
       "      <th>Hi Temperature</th>\n",
       "      <th>Low Temperature</th>\n",
       "    </tr>\n",
       "  </thead>\n",
       "  <tbody>\n",
       "    <tr>\n",
       "      <th>3689</th>\n",
       "      <td>2006-06-26</td>\n",
       "      <td>00:00:00</td>\n",
       "      <td>9.9</td>\n",
       "      <td>10.0</td>\n",
       "      <td>9.8</td>\n",
       "    </tr>\n",
       "    <tr>\n",
       "      <th>3690</th>\n",
       "      <td>2006-06-26</td>\n",
       "      <td>00:10:00</td>\n",
       "      <td>9.9</td>\n",
       "      <td>10.0</td>\n",
       "      <td>9.8</td>\n",
       "    </tr>\n",
       "    <tr>\n",
       "      <th>3691</th>\n",
       "      <td>2006-06-26</td>\n",
       "      <td>00:20:00</td>\n",
       "      <td>9.9</td>\n",
       "      <td>10.0</td>\n",
       "      <td>9.8</td>\n",
       "    </tr>\n",
       "    <tr>\n",
       "      <th>3692</th>\n",
       "      <td>2006-06-26</td>\n",
       "      <td>00:30:00</td>\n",
       "      <td>9.9</td>\n",
       "      <td>10.0</td>\n",
       "      <td>9.8</td>\n",
       "    </tr>\n",
       "    <tr>\n",
       "      <th>3693</th>\n",
       "      <td>2006-06-26</td>\n",
       "      <td>00:40:00</td>\n",
       "      <td>9.8</td>\n",
       "      <td>9.9</td>\n",
       "      <td>9.7</td>\n",
       "    </tr>\n",
       "  </tbody>\n",
       "</table>\n",
       "</div>"
      ],
      "text/plain": [
       "           Date      Time  Outside Temperature  Hi Temperature  \\\n",
       "3689 2006-06-26  00:00:00                  9.9            10.0   \n",
       "3690 2006-06-26  00:10:00                  9.9            10.0   \n",
       "3691 2006-06-26  00:20:00                  9.9            10.0   \n",
       "3692 2006-06-26  00:30:00                  9.9            10.0   \n",
       "3693 2006-06-26  00:40:00                  9.8             9.9   \n",
       "\n",
       "      Low Temperature  \n",
       "3689              9.8  \n",
       "3690              9.8  \n",
       "3691              9.8  \n",
       "3692              9.8  \n",
       "3693              9.7  "
      ]
     },
     "execution_count": 16,
     "metadata": {},
     "output_type": "execute_result"
    }
   ],
   "source": [
    "dfs[25].head()"
   ]
  },
  {
   "cell_type": "code",
   "execution_count": 17,
   "metadata": {},
   "outputs": [
    {
     "name": "stdout",
     "output_type": "stream",
     "text": [
      "[17.199999999999999, 17.699999999999999, 19.600000000000001, 18.0, 16.100000000000001, 23.199999999999999, 19.600000000000001, 20.699999999999999, 17.899999999999999, 19.899999999999999, 22.399999999999999, 19.399999999999999, 17.100000000000001, 16.399999999999999, 21.100000000000001, 18.699999999999999, 18.899999999999999, 15.4, 17.300000000000001, 16.300000000000001, 12.6, 16.100000000000001, 16.5, 16.699999999999999, 15.6, 15.800000000000001, 17.699999999999999, 21.399999999999999, 18.100000000000001, 15.9]\n"
     ]
    }
   ],
   "source": [
    "values = []\n",
    "for df in dfs:\n",
    "    values.append(df['Outside Temperature'].max())\n",
    "print values"
   ]
  },
  {
   "cell_type": "code",
   "execution_count": 18,
   "metadata": {
    "collapsed": true
   },
   "outputs": [],
   "source": [
    "index_max = max(xrange(len(values)), key=values.__getitem__)"
   ]
  },
  {
   "cell_type": "code",
   "execution_count": 19,
   "metadata": {},
   "outputs": [
    {
     "data": {
      "text/html": [
       "<div>\n",
       "<table border=\"1\" class=\"dataframe\">\n",
       "  <thead>\n",
       "    <tr style=\"text-align: right;\">\n",
       "      <th></th>\n",
       "      <th>Date</th>\n",
       "      <th>Time</th>\n",
       "      <th>Outside Temperature</th>\n",
       "      <th>Hi Temperature</th>\n",
       "      <th>Low Temperature</th>\n",
       "    </tr>\n",
       "  </thead>\n",
       "  <tbody>\n",
       "    <tr>\n",
       "      <th>810</th>\n",
       "      <td>2006-06-06</td>\n",
       "      <td>00:00:00</td>\n",
       "      <td>10.3</td>\n",
       "      <td>10.4</td>\n",
       "      <td>10.3</td>\n",
       "    </tr>\n",
       "    <tr>\n",
       "      <th>811</th>\n",
       "      <td>2006-06-06</td>\n",
       "      <td>00:10:00</td>\n",
       "      <td>10.2</td>\n",
       "      <td>10.3</td>\n",
       "      <td>10.2</td>\n",
       "    </tr>\n",
       "    <tr>\n",
       "      <th>812</th>\n",
       "      <td>2006-06-06</td>\n",
       "      <td>00:20:00</td>\n",
       "      <td>10.1</td>\n",
       "      <td>10.2</td>\n",
       "      <td>10.1</td>\n",
       "    </tr>\n",
       "    <tr>\n",
       "      <th>813</th>\n",
       "      <td>2006-06-06</td>\n",
       "      <td>00:30:00</td>\n",
       "      <td>10.1</td>\n",
       "      <td>10.1</td>\n",
       "      <td>10.0</td>\n",
       "    </tr>\n",
       "    <tr>\n",
       "      <th>814</th>\n",
       "      <td>2006-06-06</td>\n",
       "      <td>00:40:00</td>\n",
       "      <td>9.9</td>\n",
       "      <td>10.0</td>\n",
       "      <td>9.8</td>\n",
       "    </tr>\n",
       "  </tbody>\n",
       "</table>\n",
       "</div>"
      ],
      "text/plain": [
       "          Date      Time  Outside Temperature  Hi Temperature  Low Temperature\n",
       "810 2006-06-06  00:00:00                 10.3            10.4             10.3\n",
       "811 2006-06-06  00:10:00                 10.2            10.3             10.2\n",
       "812 2006-06-06  00:20:00                 10.1            10.2             10.1\n",
       "813 2006-06-06  00:30:00                 10.1            10.1             10.0\n",
       "814 2006-06-06  00:40:00                  9.9            10.0              9.8"
      ]
     },
     "execution_count": 19,
     "metadata": {},
     "output_type": "execute_result"
    }
   ],
   "source": [
    "dfs[index_max].head()"
   ]
  },
  {
   "cell_type": "code",
   "execution_count": 20,
   "metadata": {},
   "outputs": [
    {
     "data": {
      "text/html": [
       "<div>\n",
       "<table border=\"1\" class=\"dataframe\">\n",
       "  <thead>\n",
       "    <tr style=\"text-align: right;\">\n",
       "      <th></th>\n",
       "      <th>Date</th>\n",
       "      <th>Time</th>\n",
       "      <th>Outside Temperature</th>\n",
       "      <th>Hi Temperature</th>\n",
       "      <th>Low Temperature</th>\n",
       "    </tr>\n",
       "  </thead>\n",
       "  <tbody>\n",
       "    <tr>\n",
       "      <th>896</th>\n",
       "      <td>2006-06-06</td>\n",
       "      <td>14:20:00</td>\n",
       "      <td>23.2</td>\n",
       "      <td>23.2</td>\n",
       "      <td>23.1</td>\n",
       "    </tr>\n",
       "  </tbody>\n",
       "</table>\n",
       "</div>"
      ],
      "text/plain": [
       "          Date      Time  Outside Temperature  Hi Temperature  Low Temperature\n",
       "896 2006-06-06  14:20:00                 23.2            23.2             23.1"
      ]
     },
     "execution_count": 20,
     "metadata": {},
     "output_type": "execute_result"
    }
   ],
   "source": [
    "dfs[index_max][dfs[index_max]['Outside Temperature'] == dfs[index_max]['Outside Temperature'].max()]"
   ]
  },
  {
   "cell_type": "code",
   "execution_count": 21,
   "metadata": {},
   "outputs": [
    {
     "data": {
      "text/plain": [
       "896    14:20:00\n",
       "Name: Time, dtype: object"
      ]
     },
     "execution_count": 21,
     "metadata": {},
     "output_type": "execute_result"
    }
   ],
   "source": [
    "dfs[index_max]['Time'][dfs[index_max]['Outside Temperature'] == dfs[index_max]['Outside Temperature'].max()]"
   ]
  },
  {
   "cell_type": "markdown",
   "metadata": {},
   "source": [
    "## Question 1a output"
   ]
  },
  {
   "cell_type": "code",
   "execution_count": 22,
   "metadata": {},
   "outputs": [
    {
     "data": {
      "text/plain": [
       "datetime.time(14, 20)"
      ]
     },
     "execution_count": 22,
     "metadata": {},
     "output_type": "execute_result"
    }
   ],
   "source": [
    "dfs[index_max]['Time'][dfs[index_max]['Outside Temperature'] == dfs[index_max]['Outside Temperature'].max()].values[0]"
   ]
  },
  {
   "cell_type": "code",
   "execution_count": 23,
   "metadata": {},
   "outputs": [
    {
     "name": "stdout",
     "output_type": "stream",
     "text": [
      "[datetime.time(15, 0), datetime.time(13, 20), datetime.time(14, 50), datetime.time(16, 10), datetime.time(13, 30), datetime.time(14, 20), datetime.time(13, 0), datetime.time(16, 20), datetime.time(14, 40), datetime.time(13, 0), datetime.time(11, 0), datetime.time(15, 0), datetime.time(13, 40), datetime.time(11, 10), datetime.time(13, 50), datetime.time(14, 50), datetime.time(14, 50), datetime.time(13, 20), datetime.time(14, 50), datetime.time(12, 0), datetime.time(13, 30), datetime.time(14, 40), datetime.time(10, 10), datetime.time(15, 40), datetime.time(10, 20), datetime.time(10, 0), datetime.time(12, 40), datetime.time(10, 40), datetime.time(13, 0), datetime.time(13, 0)]\n"
     ]
    }
   ],
   "source": [
    "times=[]\n",
    "for df in dfs:\n",
    "    times.append(df['Time'][df['Outside Temperature'] == df['Outside Temperature'].max()].values[0])\n",
    "    \n",
    "    \n",
    "print times    "
   ]
  },
  {
   "cell_type": "code",
   "execution_count": 24,
   "metadata": {
    "collapsed": true
   },
   "outputs": [],
   "source": [
    "df_times = pd.DataFrame(times, columns=['Time of daily highs'])"
   ]
  },
  {
   "cell_type": "code",
   "execution_count": 25,
   "metadata": {},
   "outputs": [
    {
     "data": {
      "text/html": [
       "<div>\n",
       "<table border=\"1\" class=\"dataframe\">\n",
       "  <thead>\n",
       "    <tr style=\"text-align: right;\">\n",
       "      <th></th>\n",
       "      <th>Time of daily highs</th>\n",
       "    </tr>\n",
       "  </thead>\n",
       "  <tbody>\n",
       "    <tr>\n",
       "      <th>0</th>\n",
       "      <td>15:00:00</td>\n",
       "    </tr>\n",
       "    <tr>\n",
       "      <th>1</th>\n",
       "      <td>13:20:00</td>\n",
       "    </tr>\n",
       "    <tr>\n",
       "      <th>2</th>\n",
       "      <td>14:50:00</td>\n",
       "    </tr>\n",
       "    <tr>\n",
       "      <th>3</th>\n",
       "      <td>16:10:00</td>\n",
       "    </tr>\n",
       "    <tr>\n",
       "      <th>4</th>\n",
       "      <td>13:30:00</td>\n",
       "    </tr>\n",
       "  </tbody>\n",
       "</table>\n",
       "</div>"
      ],
      "text/plain": [
       "  Time of daily highs\n",
       "0            15:00:00\n",
       "1            13:20:00\n",
       "2            14:50:00\n",
       "3            16:10:00\n",
       "4            13:30:00"
      ]
     },
     "execution_count": 25,
     "metadata": {},
     "output_type": "execute_result"
    }
   ],
   "source": [
    "df_times.head()\n",
    "#df_times.describe()"
   ]
  },
  {
   "cell_type": "code",
   "execution_count": 26,
   "metadata": {},
   "outputs": [
    {
     "data": {
      "text/plain": [
       "4"
      ]
     },
     "execution_count": 26,
     "metadata": {},
     "output_type": "execute_result"
    }
   ],
   "source": [
    "df_times['Time of daily highs'].value_counts().max()"
   ]
  },
  {
   "cell_type": "markdown",
   "metadata": {},
   "source": [
    "## Question 1b output"
   ]
  },
  {
   "cell_type": "code",
   "execution_count": 27,
   "metadata": {},
   "outputs": [
    {
     "data": {
      "text/plain": [
       "datetime.time(13, 0)"
      ]
     },
     "execution_count": 27,
     "metadata": {},
     "output_type": "execute_result"
    }
   ],
   "source": [
    "df_times['Time of daily highs'].value_counts().idxmax()"
   ]
  },
  {
   "cell_type": "code",
   "execution_count": 28,
   "metadata": {
    "collapsed": true
   },
   "outputs": [],
   "source": [
    "df_Q1_3 = df_Q123.set_index('Time')"
   ]
  },
  {
   "cell_type": "markdown",
   "metadata": {},
   "source": [
    "## Question 1c output"
   ]
  },
  {
   "cell_type": "code",
   "execution_count": 29,
   "metadata": {},
   "outputs": [
    {
     "data": {
      "text/plain": [
       "Date        Time    \n",
       "2006-06-01  15:00:00    17.2\n",
       "            15:10:00    17.2\n",
       "            14:50:00    17.1\n",
       "            15:20:00    17.0\n",
       "            15:30:00    16.8\n",
       "            14:40:00    16.7\n",
       "            13:40:00    16.6\n",
       "            13:50:00    16.6\n",
       "            15:40:00    16.6\n",
       "            13:30:00    16.3\n",
       "2006-06-02  13:20:00    17.7\n",
       "            13:30:00    17.6\n",
       "            13:10:00    17.5\n",
       "            13:40:00    17.4\n",
       "            13:50:00    17.4\n",
       "            14:00:00    17.4\n",
       "            14:10:00    17.4\n",
       "            14:20:00    17.4\n",
       "            14:30:00    17.3\n",
       "            11:50:00    17.2\n",
       "2006-06-03  14:50:00    19.6\n",
       "            15:00:00    19.6\n",
       "            14:40:00    19.5\n",
       "            15:10:00    19.4\n",
       "            15:20:00    19.4\n",
       "            14:30:00    19.3\n",
       "            15:30:00    19.2\n",
       "            14:20:00    19.1\n",
       "            15:40:00    19.1\n",
       "            15:50:00    19.0\n",
       "                        ... \n",
       "2006-06-28  10:40:00    21.4\n",
       "            10:50:00    21.4\n",
       "            10:30:00    21.3\n",
       "            10:20:00    21.2\n",
       "            10:10:00    21.1\n",
       "            10:00:00    21.0\n",
       "            11:00:00    21.0\n",
       "            09:50:00    20.9\n",
       "            11:10:00    20.7\n",
       "            11:20:00    20.4\n",
       "2006-06-29  13:00:00    18.1\n",
       "            13:10:00    18.1\n",
       "            13:20:00    18.0\n",
       "            12:50:00    17.9\n",
       "            15:40:00    17.9\n",
       "            15:50:00    17.9\n",
       "            18:20:00    17.9\n",
       "            18:30:00    17.9\n",
       "            18:40:00    17.9\n",
       "            18:50:00    17.9\n",
       "2006-06-30  13:00:00    15.9\n",
       "            13:10:00    15.9\n",
       "            13:20:00    15.9\n",
       "            13:30:00    15.9\n",
       "            13:40:00    15.9\n",
       "            13:50:00    15.8\n",
       "            14:00:00    15.8\n",
       "            14:10:00    15.8\n",
       "            14:20:00    15.8\n",
       "            14:30:00    15.8\n",
       "Name: Outside Temperature, dtype: float64"
      ]
     },
     "execution_count": 29,
     "metadata": {},
     "output_type": "execute_result"
    }
   ],
   "source": [
    "df_Q1_3.groupby('Date')['Outside Temperature'].nlargest(10)"
   ]
  },
  {
   "cell_type": "markdown",
   "metadata": {},
   "source": [
    "## Question 2"
   ]
  },
  {
   "cell_type": "code",
   "execution_count": 30,
   "metadata": {
    "collapsed": true
   },
   "outputs": [],
   "source": [
    "df_low_temp = df_Q123[['Date', 'Time', 'Low Temperature']]"
   ]
  },
  {
   "cell_type": "code",
   "execution_count": 31,
   "metadata": {
    "collapsed": true
   },
   "outputs": [],
   "source": [
    "df_hi_temp = df_Q123[['Date', 'Time', 'Hi Temperature']]"
   ]
  },
  {
   "cell_type": "code",
   "execution_count": 32,
   "metadata": {
    "collapsed": true
   },
   "outputs": [],
   "source": [
    "#df_low_temp.head()\n",
    "#df_hi_temp.head()"
   ]
  },
  {
   "cell_type": "code",
   "execution_count": 33,
   "metadata": {
    "collapsed": true
   },
   "outputs": [],
   "source": [
    "low_temps = []\n",
    "i=0\n",
    "for df in range(0,9):\n",
    "    df = df_low_temp[df_low_temp['Date'].dt.day == i+1]\n",
    "    low_temps.append(df)\n",
    "    i+=1"
   ]
  },
  {
   "cell_type": "code",
   "execution_count": 34,
   "metadata": {},
   "outputs": [
    {
     "data": {
      "text/html": [
       "<div>\n",
       "<table border=\"1\" class=\"dataframe\">\n",
       "  <thead>\n",
       "    <tr style=\"text-align: right;\">\n",
       "      <th></th>\n",
       "      <th>Date</th>\n",
       "      <th>Time</th>\n",
       "      <th>Low Temperature</th>\n",
       "    </tr>\n",
       "  </thead>\n",
       "  <tbody>\n",
       "    <tr>\n",
       "      <th>522</th>\n",
       "      <td>2006-06-04</td>\n",
       "      <td>00:00:00</td>\n",
       "      <td>8.8</td>\n",
       "    </tr>\n",
       "    <tr>\n",
       "      <th>523</th>\n",
       "      <td>2006-06-04</td>\n",
       "      <td>00:10:00</td>\n",
       "      <td>8.7</td>\n",
       "    </tr>\n",
       "    <tr>\n",
       "      <th>524</th>\n",
       "      <td>2006-06-04</td>\n",
       "      <td>00:20:00</td>\n",
       "      <td>8.6</td>\n",
       "    </tr>\n",
       "    <tr>\n",
       "      <th>525</th>\n",
       "      <td>2006-06-04</td>\n",
       "      <td>00:30:00</td>\n",
       "      <td>8.4</td>\n",
       "    </tr>\n",
       "    <tr>\n",
       "      <th>526</th>\n",
       "      <td>2006-06-04</td>\n",
       "      <td>00:40:00</td>\n",
       "      <td>8.2</td>\n",
       "    </tr>\n",
       "  </tbody>\n",
       "</table>\n",
       "</div>"
      ],
      "text/plain": [
       "          Date      Time  Low Temperature\n",
       "522 2006-06-04  00:00:00              8.8\n",
       "523 2006-06-04  00:10:00              8.7\n",
       "524 2006-06-04  00:20:00              8.6\n",
       "525 2006-06-04  00:30:00              8.4\n",
       "526 2006-06-04  00:40:00              8.2"
      ]
     },
     "execution_count": 34,
     "metadata": {},
     "output_type": "execute_result"
    }
   ],
   "source": [
    "low_temps[3].head()"
   ]
  },
  {
   "cell_type": "code",
   "execution_count": 35,
   "metadata": {},
   "outputs": [
    {
     "name": "stdout",
     "output_type": "stream",
     "text": [
      "          Date      Time  Low Temperature\n",
      "127 2006-06-01  06:10:00             10.3\n",
      "Empty DataFrame\n",
      "Columns: [Date, Time, Low Temperature]\n",
      "Index: []\n",
      "          Date      Time  Low Temperature\n",
      "420 2006-06-03  07:00:00             10.3\n",
      "          Date      Time  Low Temperature\n",
      "659 2006-06-04  22:50:00             10.3\n",
      "Empty DataFrame\n",
      "Columns: [Date, Time, Low Temperature]\n",
      "Index: []\n",
      "          Date      Time  Low Temperature\n",
      "810 2006-06-06  00:00:00             10.3\n",
      "           Date      Time  Low Temperature\n",
      "1081 2006-06-07  21:10:00             10.3\n",
      "           Date      Time  Low Temperature\n",
      "1128 2006-06-08  05:00:00             10.3\n",
      "           Date      Time  Low Temperature\n",
      "1260 2006-06-09  03:00:00             10.3\n"
     ]
    }
   ],
   "source": [
    "for x in range(0,9):\n",
    "        low_temps[x] = low_temps[x].drop(low_temps[x][(low_temps[x]['Low Temperature'] < 10.28) \n",
    "                                                      | (low_temps[x]['Low Temperature'] > 10.32)].index)\n",
    "        print low_temps[x].head(1)"
   ]
  },
  {
   "cell_type": "code",
   "execution_count": 36,
   "metadata": {
    "collapsed": true
   },
   "outputs": [],
   "source": [
    "hi_temps = []\n",
    "i=0\n",
    "for df in range(0,9):\n",
    "    df = df_hi_temp[df_hi_temp['Date'].dt.day == i+1]\n",
    "    hi_temps.append(df)\n",
    "    i+=1"
   ]
  },
  {
   "cell_type": "code",
   "execution_count": 37,
   "metadata": {},
   "outputs": [
    {
     "name": "stdout",
     "output_type": "stream",
     "text": [
      "Empty DataFrame\n",
      "Columns: [Date, Time, Hi Temperature]\n",
      "Index: []\n",
      "Empty DataFrame\n",
      "Columns: [Date, Time, Hi Temperature]\n",
      "Index: []\n",
      "Empty DataFrame\n",
      "Columns: [Date, Time, Hi Temperature]\n",
      "Index: []\n",
      "Empty DataFrame\n",
      "Columns: [Date, Time, Hi Temperature]\n",
      "Index: []\n",
      "Empty DataFrame\n",
      "Columns: [Date, Time, Hi Temperature]\n",
      "Index: []\n",
      "          Date      Time  Hi Temperature\n",
      "885 2006-06-06  12:30:00            21.4\n",
      "886 2006-06-06  12:40:00            21.6\n",
      "887 2006-06-06  12:50:00            21.8\n",
      "888 2006-06-06  13:00:00            22.1\n",
      "889 2006-06-06  13:10:00            22.4\n",
      "Empty DataFrame\n",
      "Columns: [Date, Time, Hi Temperature]\n",
      "Index: []\n",
      "Empty DataFrame\n",
      "Columns: [Date, Time, Hi Temperature]\n",
      "Index: []\n",
      "Empty DataFrame\n",
      "Columns: [Date, Time, Hi Temperature]\n",
      "Index: []\n"
     ]
    }
   ],
   "source": [
    "for x in xrange(0,9):\n",
    "        hi_temps[x] = hi_temps[x].drop(hi_temps[x][(hi_temps[x]['Hi Temperature'] < 21.3)\n",
    "                                                               | (hi_temps[x]['Hi Temperature'] > 23.3)].index)\n",
    "        print hi_temps[x].head(5)"
   ]
  },
  {
   "cell_type": "code",
   "execution_count": 38,
   "metadata": {
    "collapsed": true
   },
   "outputs": [],
   "source": [
    "df_low_temps = pd.concat(low_temps)"
   ]
  },
  {
   "cell_type": "code",
   "execution_count": 39,
   "metadata": {
    "collapsed": true
   },
   "outputs": [],
   "source": [
    "df_hi_temps = pd.concat(hi_temps)"
   ]
  },
  {
   "cell_type": "code",
   "execution_count": 40,
   "metadata": {},
   "outputs": [
    {
     "data": {
      "text/html": [
       "<div>\n",
       "<table border=\"1\" class=\"dataframe\">\n",
       "  <thead>\n",
       "    <tr style=\"text-align: right;\">\n",
       "      <th></th>\n",
       "      <th>Low Temperature</th>\n",
       "    </tr>\n",
       "  </thead>\n",
       "  <tbody>\n",
       "    <tr>\n",
       "      <th>count</th>\n",
       "      <td>14.0</td>\n",
       "    </tr>\n",
       "    <tr>\n",
       "      <th>mean</th>\n",
       "      <td>10.3</td>\n",
       "    </tr>\n",
       "    <tr>\n",
       "      <th>std</th>\n",
       "      <td>0.0</td>\n",
       "    </tr>\n",
       "    <tr>\n",
       "      <th>min</th>\n",
       "      <td>10.3</td>\n",
       "    </tr>\n",
       "    <tr>\n",
       "      <th>25%</th>\n",
       "      <td>10.3</td>\n",
       "    </tr>\n",
       "    <tr>\n",
       "      <th>50%</th>\n",
       "      <td>10.3</td>\n",
       "    </tr>\n",
       "    <tr>\n",
       "      <th>75%</th>\n",
       "      <td>10.3</td>\n",
       "    </tr>\n",
       "    <tr>\n",
       "      <th>max</th>\n",
       "      <td>10.3</td>\n",
       "    </tr>\n",
       "  </tbody>\n",
       "</table>\n",
       "</div>"
      ],
      "text/plain": [
       "       Low Temperature\n",
       "count             14.0\n",
       "mean              10.3\n",
       "std                0.0\n",
       "min               10.3\n",
       "25%               10.3\n",
       "50%               10.3\n",
       "75%               10.3\n",
       "max               10.3"
      ]
     },
     "execution_count": 40,
     "metadata": {},
     "output_type": "execute_result"
    }
   ],
   "source": [
    "df_low_temps.describe()\n",
    "#df_low_temps.head()"
   ]
  },
  {
   "cell_type": "code",
   "execution_count": 41,
   "metadata": {},
   "outputs": [
    {
     "data": {
      "text/html": [
       "<div>\n",
       "<table border=\"1\" class=\"dataframe\">\n",
       "  <thead>\n",
       "    <tr style=\"text-align: right;\">\n",
       "      <th></th>\n",
       "      <th>Date</th>\n",
       "      <th>Time</th>\n",
       "      <th>Hi Temperature</th>\n",
       "    </tr>\n",
       "  </thead>\n",
       "  <tbody>\n",
       "    <tr>\n",
       "      <th>885</th>\n",
       "      <td>2006-06-06</td>\n",
       "      <td>12:30:00</td>\n",
       "      <td>21.4</td>\n",
       "    </tr>\n",
       "    <tr>\n",
       "      <th>886</th>\n",
       "      <td>2006-06-06</td>\n",
       "      <td>12:40:00</td>\n",
       "      <td>21.6</td>\n",
       "    </tr>\n",
       "    <tr>\n",
       "      <th>887</th>\n",
       "      <td>2006-06-06</td>\n",
       "      <td>12:50:00</td>\n",
       "      <td>21.8</td>\n",
       "    </tr>\n",
       "    <tr>\n",
       "      <th>888</th>\n",
       "      <td>2006-06-06</td>\n",
       "      <td>13:00:00</td>\n",
       "      <td>22.1</td>\n",
       "    </tr>\n",
       "    <tr>\n",
       "      <th>889</th>\n",
       "      <td>2006-06-06</td>\n",
       "      <td>13:10:00</td>\n",
       "      <td>22.4</td>\n",
       "    </tr>\n",
       "  </tbody>\n",
       "</table>\n",
       "</div>"
      ],
      "text/plain": [
       "          Date      Time  Hi Temperature\n",
       "885 2006-06-06  12:30:00            21.4\n",
       "886 2006-06-06  12:40:00            21.6\n",
       "887 2006-06-06  12:50:00            21.8\n",
       "888 2006-06-06  13:00:00            22.1\n",
       "889 2006-06-06  13:10:00            22.4"
      ]
     },
     "execution_count": 41,
     "metadata": {},
     "output_type": "execute_result"
    }
   ],
   "source": [
    "#df_hi_temps.describe()\n",
    "df_hi_temps.head()"
   ]
  },
  {
   "cell_type": "code",
   "execution_count": 42,
   "metadata": {
    "collapsed": true
   },
   "outputs": [],
   "source": [
    "Q2 = pd.merge(df_low_temps, df_hi_temps, how='left', on=['Date'])"
   ]
  },
  {
   "cell_type": "markdown",
   "metadata": {},
   "source": [
    "## Question 2 output"
   ]
  },
  {
   "cell_type": "code",
   "execution_count": 43,
   "metadata": {},
   "outputs": [
    {
     "data": {
      "text/html": [
       "<div>\n",
       "<table border=\"1\" class=\"dataframe\">\n",
       "  <thead>\n",
       "    <tr style=\"text-align: right;\">\n",
       "      <th></th>\n",
       "      <th>Date</th>\n",
       "      <th>Time_x</th>\n",
       "      <th>Low Temperature</th>\n",
       "      <th>Time_y</th>\n",
       "      <th>Hi Temperature</th>\n",
       "    </tr>\n",
       "  </thead>\n",
       "  <tbody>\n",
       "    <tr>\n",
       "      <th>0</th>\n",
       "      <td>2006-06-01</td>\n",
       "      <td>06:10:00</td>\n",
       "      <td>10.3</td>\n",
       "      <td>NaN</td>\n",
       "      <td>NaN</td>\n",
       "    </tr>\n",
       "    <tr>\n",
       "      <th>1</th>\n",
       "      <td>2006-06-01</td>\n",
       "      <td>21:50:00</td>\n",
       "      <td>10.3</td>\n",
       "      <td>NaN</td>\n",
       "      <td>NaN</td>\n",
       "    </tr>\n",
       "    <tr>\n",
       "      <th>2</th>\n",
       "      <td>2006-06-03</td>\n",
       "      <td>07:00:00</td>\n",
       "      <td>10.3</td>\n",
       "      <td>NaN</td>\n",
       "      <td>NaN</td>\n",
       "    </tr>\n",
       "    <tr>\n",
       "      <th>3</th>\n",
       "      <td>2006-06-03</td>\n",
       "      <td>21:00:00</td>\n",
       "      <td>10.3</td>\n",
       "      <td>NaN</td>\n",
       "      <td>NaN</td>\n",
       "    </tr>\n",
       "    <tr>\n",
       "      <th>4</th>\n",
       "      <td>2006-06-04</td>\n",
       "      <td>22:50:00</td>\n",
       "      <td>10.3</td>\n",
       "      <td>NaN</td>\n",
       "      <td>NaN</td>\n",
       "    </tr>\n",
       "    <tr>\n",
       "      <th>5</th>\n",
       "      <td>2006-06-04</td>\n",
       "      <td>23:00:00</td>\n",
       "      <td>10.3</td>\n",
       "      <td>NaN</td>\n",
       "      <td>NaN</td>\n",
       "    </tr>\n",
       "    <tr>\n",
       "      <th>6</th>\n",
       "      <td>2006-06-06</td>\n",
       "      <td>00:00:00</td>\n",
       "      <td>10.3</td>\n",
       "      <td>12:30:00</td>\n",
       "      <td>21.4</td>\n",
       "    </tr>\n",
       "    <tr>\n",
       "      <th>7</th>\n",
       "      <td>2006-06-06</td>\n",
       "      <td>00:00:00</td>\n",
       "      <td>10.3</td>\n",
       "      <td>12:40:00</td>\n",
       "      <td>21.6</td>\n",
       "    </tr>\n",
       "    <tr>\n",
       "      <th>8</th>\n",
       "      <td>2006-06-06</td>\n",
       "      <td>00:00:00</td>\n",
       "      <td>10.3</td>\n",
       "      <td>12:50:00</td>\n",
       "      <td>21.8</td>\n",
       "    </tr>\n",
       "    <tr>\n",
       "      <th>9</th>\n",
       "      <td>2006-06-06</td>\n",
       "      <td>00:00:00</td>\n",
       "      <td>10.3</td>\n",
       "      <td>13:00:00</td>\n",
       "      <td>22.1</td>\n",
       "    </tr>\n",
       "    <tr>\n",
       "      <th>10</th>\n",
       "      <td>2006-06-06</td>\n",
       "      <td>00:00:00</td>\n",
       "      <td>10.3</td>\n",
       "      <td>13:10:00</td>\n",
       "      <td>22.4</td>\n",
       "    </tr>\n",
       "    <tr>\n",
       "      <th>11</th>\n",
       "      <td>2006-06-06</td>\n",
       "      <td>00:00:00</td>\n",
       "      <td>10.3</td>\n",
       "      <td>13:20:00</td>\n",
       "      <td>22.7</td>\n",
       "    </tr>\n",
       "    <tr>\n",
       "      <th>12</th>\n",
       "      <td>2006-06-06</td>\n",
       "      <td>00:00:00</td>\n",
       "      <td>10.3</td>\n",
       "      <td>13:30:00</td>\n",
       "      <td>22.8</td>\n",
       "    </tr>\n",
       "    <tr>\n",
       "      <th>13</th>\n",
       "      <td>2006-06-06</td>\n",
       "      <td>00:00:00</td>\n",
       "      <td>10.3</td>\n",
       "      <td>13:40:00</td>\n",
       "      <td>23.0</td>\n",
       "    </tr>\n",
       "    <tr>\n",
       "      <th>14</th>\n",
       "      <td>2006-06-06</td>\n",
       "      <td>00:00:00</td>\n",
       "      <td>10.3</td>\n",
       "      <td>13:50:00</td>\n",
       "      <td>23.0</td>\n",
       "    </tr>\n",
       "    <tr>\n",
       "      <th>15</th>\n",
       "      <td>2006-06-06</td>\n",
       "      <td>00:00:00</td>\n",
       "      <td>10.3</td>\n",
       "      <td>14:00:00</td>\n",
       "      <td>23.1</td>\n",
       "    </tr>\n",
       "    <tr>\n",
       "      <th>16</th>\n",
       "      <td>2006-06-06</td>\n",
       "      <td>00:00:00</td>\n",
       "      <td>10.3</td>\n",
       "      <td>14:10:00</td>\n",
       "      <td>23.2</td>\n",
       "    </tr>\n",
       "    <tr>\n",
       "      <th>17</th>\n",
       "      <td>2006-06-06</td>\n",
       "      <td>00:00:00</td>\n",
       "      <td>10.3</td>\n",
       "      <td>14:20:00</td>\n",
       "      <td>23.2</td>\n",
       "    </tr>\n",
       "    <tr>\n",
       "      <th>18</th>\n",
       "      <td>2006-06-06</td>\n",
       "      <td>00:00:00</td>\n",
       "      <td>10.3</td>\n",
       "      <td>14:30:00</td>\n",
       "      <td>23.2</td>\n",
       "    </tr>\n",
       "    <tr>\n",
       "      <th>19</th>\n",
       "      <td>2006-06-06</td>\n",
       "      <td>00:00:00</td>\n",
       "      <td>10.3</td>\n",
       "      <td>14:40:00</td>\n",
       "      <td>23.1</td>\n",
       "    </tr>\n",
       "    <tr>\n",
       "      <th>20</th>\n",
       "      <td>2006-06-06</td>\n",
       "      <td>00:00:00</td>\n",
       "      <td>10.3</td>\n",
       "      <td>14:50:00</td>\n",
       "      <td>22.9</td>\n",
       "    </tr>\n",
       "    <tr>\n",
       "      <th>21</th>\n",
       "      <td>2006-06-06</td>\n",
       "      <td>00:00:00</td>\n",
       "      <td>10.3</td>\n",
       "      <td>15:00:00</td>\n",
       "      <td>22.9</td>\n",
       "    </tr>\n",
       "    <tr>\n",
       "      <th>22</th>\n",
       "      <td>2006-06-06</td>\n",
       "      <td>00:00:00</td>\n",
       "      <td>10.3</td>\n",
       "      <td>15:10:00</td>\n",
       "      <td>22.9</td>\n",
       "    </tr>\n",
       "    <tr>\n",
       "      <th>23</th>\n",
       "      <td>2006-06-06</td>\n",
       "      <td>00:00:00</td>\n",
       "      <td>10.3</td>\n",
       "      <td>15:20:00</td>\n",
       "      <td>22.7</td>\n",
       "    </tr>\n",
       "    <tr>\n",
       "      <th>24</th>\n",
       "      <td>2006-06-06</td>\n",
       "      <td>00:00:00</td>\n",
       "      <td>10.3</td>\n",
       "      <td>15:30:00</td>\n",
       "      <td>22.7</td>\n",
       "    </tr>\n",
       "    <tr>\n",
       "      <th>25</th>\n",
       "      <td>2006-06-06</td>\n",
       "      <td>00:00:00</td>\n",
       "      <td>10.3</td>\n",
       "      <td>15:40:00</td>\n",
       "      <td>22.7</td>\n",
       "    </tr>\n",
       "    <tr>\n",
       "      <th>26</th>\n",
       "      <td>2006-06-06</td>\n",
       "      <td>00:00:00</td>\n",
       "      <td>10.3</td>\n",
       "      <td>15:50:00</td>\n",
       "      <td>22.6</td>\n",
       "    </tr>\n",
       "    <tr>\n",
       "      <th>27</th>\n",
       "      <td>2006-06-06</td>\n",
       "      <td>00:00:00</td>\n",
       "      <td>10.3</td>\n",
       "      <td>16:00:00</td>\n",
       "      <td>22.5</td>\n",
       "    </tr>\n",
       "    <tr>\n",
       "      <th>28</th>\n",
       "      <td>2006-06-06</td>\n",
       "      <td>00:00:00</td>\n",
       "      <td>10.3</td>\n",
       "      <td>16:10:00</td>\n",
       "      <td>22.4</td>\n",
       "    </tr>\n",
       "    <tr>\n",
       "      <th>29</th>\n",
       "      <td>2006-06-06</td>\n",
       "      <td>00:00:00</td>\n",
       "      <td>10.3</td>\n",
       "      <td>16:20:00</td>\n",
       "      <td>22.3</td>\n",
       "    </tr>\n",
       "    <tr>\n",
       "      <th>30</th>\n",
       "      <td>2006-06-06</td>\n",
       "      <td>00:00:00</td>\n",
       "      <td>10.3</td>\n",
       "      <td>16:30:00</td>\n",
       "      <td>22.3</td>\n",
       "    </tr>\n",
       "    <tr>\n",
       "      <th>31</th>\n",
       "      <td>2006-06-06</td>\n",
       "      <td>00:00:00</td>\n",
       "      <td>10.3</td>\n",
       "      <td>16:40:00</td>\n",
       "      <td>22.3</td>\n",
       "    </tr>\n",
       "    <tr>\n",
       "      <th>32</th>\n",
       "      <td>2006-06-06</td>\n",
       "      <td>00:00:00</td>\n",
       "      <td>10.3</td>\n",
       "      <td>16:50:00</td>\n",
       "      <td>22.2</td>\n",
       "    </tr>\n",
       "    <tr>\n",
       "      <th>33</th>\n",
       "      <td>2006-06-06</td>\n",
       "      <td>00:00:00</td>\n",
       "      <td>10.3</td>\n",
       "      <td>17:00:00</td>\n",
       "      <td>22.0</td>\n",
       "    </tr>\n",
       "    <tr>\n",
       "      <th>34</th>\n",
       "      <td>2006-06-06</td>\n",
       "      <td>00:00:00</td>\n",
       "      <td>10.3</td>\n",
       "      <td>17:10:00</td>\n",
       "      <td>21.8</td>\n",
       "    </tr>\n",
       "    <tr>\n",
       "      <th>35</th>\n",
       "      <td>2006-06-06</td>\n",
       "      <td>00:00:00</td>\n",
       "      <td>10.3</td>\n",
       "      <td>17:20:00</td>\n",
       "      <td>21.8</td>\n",
       "    </tr>\n",
       "    <tr>\n",
       "      <th>36</th>\n",
       "      <td>2006-06-06</td>\n",
       "      <td>00:00:00</td>\n",
       "      <td>10.3</td>\n",
       "      <td>17:30:00</td>\n",
       "      <td>21.8</td>\n",
       "    </tr>\n",
       "    <tr>\n",
       "      <th>37</th>\n",
       "      <td>2006-06-06</td>\n",
       "      <td>00:00:00</td>\n",
       "      <td>10.3</td>\n",
       "      <td>17:40:00</td>\n",
       "      <td>21.7</td>\n",
       "    </tr>\n",
       "    <tr>\n",
       "      <th>38</th>\n",
       "      <td>2006-06-06</td>\n",
       "      <td>00:00:00</td>\n",
       "      <td>10.3</td>\n",
       "      <td>17:50:00</td>\n",
       "      <td>21.7</td>\n",
       "    </tr>\n",
       "    <tr>\n",
       "      <th>39</th>\n",
       "      <td>2006-06-06</td>\n",
       "      <td>00:00:00</td>\n",
       "      <td>10.3</td>\n",
       "      <td>18:00:00</td>\n",
       "      <td>21.9</td>\n",
       "    </tr>\n",
       "    <tr>\n",
       "      <th>40</th>\n",
       "      <td>2006-06-06</td>\n",
       "      <td>00:00:00</td>\n",
       "      <td>10.3</td>\n",
       "      <td>18:10:00</td>\n",
       "      <td>21.9</td>\n",
       "    </tr>\n",
       "    <tr>\n",
       "      <th>41</th>\n",
       "      <td>2006-06-06</td>\n",
       "      <td>00:00:00</td>\n",
       "      <td>10.3</td>\n",
       "      <td>18:20:00</td>\n",
       "      <td>21.7</td>\n",
       "    </tr>\n",
       "    <tr>\n",
       "      <th>42</th>\n",
       "      <td>2006-06-06</td>\n",
       "      <td>00:00:00</td>\n",
       "      <td>10.3</td>\n",
       "      <td>18:30:00</td>\n",
       "      <td>21.4</td>\n",
       "    </tr>\n",
       "    <tr>\n",
       "      <th>43</th>\n",
       "      <td>2006-06-07</td>\n",
       "      <td>21:10:00</td>\n",
       "      <td>10.3</td>\n",
       "      <td>NaN</td>\n",
       "      <td>NaN</td>\n",
       "    </tr>\n",
       "    <tr>\n",
       "      <th>44</th>\n",
       "      <td>2006-06-08</td>\n",
       "      <td>05:00:00</td>\n",
       "      <td>10.3</td>\n",
       "      <td>NaN</td>\n",
       "      <td>NaN</td>\n",
       "    </tr>\n",
       "    <tr>\n",
       "      <th>45</th>\n",
       "      <td>2006-06-08</td>\n",
       "      <td>05:10:00</td>\n",
       "      <td>10.3</td>\n",
       "      <td>NaN</td>\n",
       "      <td>NaN</td>\n",
       "    </tr>\n",
       "    <tr>\n",
       "      <th>46</th>\n",
       "      <td>2006-06-09</td>\n",
       "      <td>03:00:00</td>\n",
       "      <td>10.3</td>\n",
       "      <td>NaN</td>\n",
       "      <td>NaN</td>\n",
       "    </tr>\n",
       "    <tr>\n",
       "      <th>47</th>\n",
       "      <td>2006-06-09</td>\n",
       "      <td>08:50:00</td>\n",
       "      <td>10.3</td>\n",
       "      <td>NaN</td>\n",
       "      <td>NaN</td>\n",
       "    </tr>\n",
       "    <tr>\n",
       "      <th>48</th>\n",
       "      <td>2006-06-09</td>\n",
       "      <td>23:20:00</td>\n",
       "      <td>10.3</td>\n",
       "      <td>NaN</td>\n",
       "      <td>NaN</td>\n",
       "    </tr>\n",
       "    <tr>\n",
       "      <th>49</th>\n",
       "      <td>2006-06-09</td>\n",
       "      <td>23:30:00</td>\n",
       "      <td>10.3</td>\n",
       "      <td>NaN</td>\n",
       "      <td>NaN</td>\n",
       "    </tr>\n",
       "  </tbody>\n",
       "</table>\n",
       "</div>"
      ],
      "text/plain": [
       "         Date    Time_x  Low Temperature    Time_y  Hi Temperature\n",
       "0  2006-06-01  06:10:00             10.3       NaN             NaN\n",
       "1  2006-06-01  21:50:00             10.3       NaN             NaN\n",
       "2  2006-06-03  07:00:00             10.3       NaN             NaN\n",
       "3  2006-06-03  21:00:00             10.3       NaN             NaN\n",
       "4  2006-06-04  22:50:00             10.3       NaN             NaN\n",
       "5  2006-06-04  23:00:00             10.3       NaN             NaN\n",
       "6  2006-06-06  00:00:00             10.3  12:30:00            21.4\n",
       "7  2006-06-06  00:00:00             10.3  12:40:00            21.6\n",
       "8  2006-06-06  00:00:00             10.3  12:50:00            21.8\n",
       "9  2006-06-06  00:00:00             10.3  13:00:00            22.1\n",
       "10 2006-06-06  00:00:00             10.3  13:10:00            22.4\n",
       "11 2006-06-06  00:00:00             10.3  13:20:00            22.7\n",
       "12 2006-06-06  00:00:00             10.3  13:30:00            22.8\n",
       "13 2006-06-06  00:00:00             10.3  13:40:00            23.0\n",
       "14 2006-06-06  00:00:00             10.3  13:50:00            23.0\n",
       "15 2006-06-06  00:00:00             10.3  14:00:00            23.1\n",
       "16 2006-06-06  00:00:00             10.3  14:10:00            23.2\n",
       "17 2006-06-06  00:00:00             10.3  14:20:00            23.2\n",
       "18 2006-06-06  00:00:00             10.3  14:30:00            23.2\n",
       "19 2006-06-06  00:00:00             10.3  14:40:00            23.1\n",
       "20 2006-06-06  00:00:00             10.3  14:50:00            22.9\n",
       "21 2006-06-06  00:00:00             10.3  15:00:00            22.9\n",
       "22 2006-06-06  00:00:00             10.3  15:10:00            22.9\n",
       "23 2006-06-06  00:00:00             10.3  15:20:00            22.7\n",
       "24 2006-06-06  00:00:00             10.3  15:30:00            22.7\n",
       "25 2006-06-06  00:00:00             10.3  15:40:00            22.7\n",
       "26 2006-06-06  00:00:00             10.3  15:50:00            22.6\n",
       "27 2006-06-06  00:00:00             10.3  16:00:00            22.5\n",
       "28 2006-06-06  00:00:00             10.3  16:10:00            22.4\n",
       "29 2006-06-06  00:00:00             10.3  16:20:00            22.3\n",
       "30 2006-06-06  00:00:00             10.3  16:30:00            22.3\n",
       "31 2006-06-06  00:00:00             10.3  16:40:00            22.3\n",
       "32 2006-06-06  00:00:00             10.3  16:50:00            22.2\n",
       "33 2006-06-06  00:00:00             10.3  17:00:00            22.0\n",
       "34 2006-06-06  00:00:00             10.3  17:10:00            21.8\n",
       "35 2006-06-06  00:00:00             10.3  17:20:00            21.8\n",
       "36 2006-06-06  00:00:00             10.3  17:30:00            21.8\n",
       "37 2006-06-06  00:00:00             10.3  17:40:00            21.7\n",
       "38 2006-06-06  00:00:00             10.3  17:50:00            21.7\n",
       "39 2006-06-06  00:00:00             10.3  18:00:00            21.9\n",
       "40 2006-06-06  00:00:00             10.3  18:10:00            21.9\n",
       "41 2006-06-06  00:00:00             10.3  18:20:00            21.7\n",
       "42 2006-06-06  00:00:00             10.3  18:30:00            21.4\n",
       "43 2006-06-07  21:10:00             10.3       NaN             NaN\n",
       "44 2006-06-08  05:00:00             10.3       NaN             NaN\n",
       "45 2006-06-08  05:10:00             10.3       NaN             NaN\n",
       "46 2006-06-09  03:00:00             10.3       NaN             NaN\n",
       "47 2006-06-09  08:50:00             10.3       NaN             NaN\n",
       "48 2006-06-09  23:20:00             10.3       NaN             NaN\n",
       "49 2006-06-09  23:30:00             10.3       NaN             NaN"
      ]
     },
     "execution_count": 43,
     "metadata": {},
     "output_type": "execute_result"
    }
   ],
   "source": [
    "Q2"
   ]
  },
  {
   "cell_type": "markdown",
   "metadata": {},
   "source": [
    "## Question 3"
   ]
  },
  {
   "cell_type": "code",
   "execution_count": 44,
   "metadata": {},
   "outputs": [
    {
     "data": {
      "text/plain": [
       "<matplotlib.axes._subplots.AxesSubplot at 0x9c519b0>"
      ]
     },
     "execution_count": 44,
     "metadata": {},
     "output_type": "execute_result"
    },
    {
     "data": {
      "image/png": "[encoded data removed]",
      "text/plain": [
       "<matplotlib.figure.Figure at 0x9c51390>"
      ]
     },
     "metadata": {},
     "output_type": "display_data"
    }
   ],
   "source": [
    "df_Q123.plot()"
   ]
  },
  {
   "cell_type": "code",
   "execution_count": null,
   "metadata": {
    "collapsed": true
   },
   "outputs": [],
   "source": [
    "from pandas import Series\n",
    "from matplotlib import pyplot\n",
    "from pandas.tools.plotting import lag_plot\n",
    "series = Series.from_csv('daily-minimum-temperatures.csv', header=0)\n",
    "lag_plot(series)\n",
    "pyplot.show()"
   ]
  },
  {
   "cell_type": "code",
   "execution_count": null,
   "metadata": {
    "collapsed": true
   },
   "outputs": [],
   "source": []
  },
  {
   "cell_type": "code",
   "execution_count": 189,
   "metadata": {
    "collapsed": true
   },
   "outputs": [],
   "source": []
  }
 ],
 "metadata": {
  "kernelspec": {
   "display_name": "Python 2",
   "language": "python",
   "name": "python2"
  },
  "language_info": {
   "codemirror_mode": {
    "name": "ipython",
    "version": 2
   },
   "file_extension": ".py",
   "mimetype": "text/x-python",
   "name": "python",
   "nbconvert_exporter": "python",
   "pygments_lexer": "ipython2",
   "version": "2.7.13"
  }
 },
 "nbformat": 4,
 "nbformat_minor": 2
}
